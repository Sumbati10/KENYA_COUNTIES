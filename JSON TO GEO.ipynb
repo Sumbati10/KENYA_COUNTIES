{
 "cells": [
  {
   "cell_type": "code",
   "execution_count": 7,
   "id": "375c7a8b-7299-456d-836b-43ea1fe5e473",
   "metadata": {},
   "outputs": [
    {
     "name": "stdout",
     "output_type": "stream",
     "text": [
      "GeoJSON file saved to C:\\Users\\LENOVO\\Downloads\\KENYAN COUNTY_GEO\\baringo.geojson\n"
     ]
    }
   ],
   "source": [
    "import json\n",
    "import geojson\n",
    "\n",
    "# Load the JSON file\n",
    "input_file_path = \"C:\\\\Users\\\\LENOVO\\\\Downloads\\\\KENYAN COUNTY_GEO\\\\baringo.json\"\n",
    "with open(input_file_path, 'r') as json_file:\n",
    "    data = json.load(json_file)\n",
    "\n",
    "# Check if the JSON is a GeometryCollection\n",
    "if data[\"type\"] == \"GeometryCollection\" and \"geometries\" in data:\n",
    "    geometries = data[\"geometries\"]\n",
    "else:\n",
    "    raise ValueError(\"Unexpected JSON structure. Please check the JSON file.\")\n",
    "\n",
    "# Create a GeoJSON FeatureCollection from the geometries\n",
    "geojson_features = [\n",
    "    geojson.Feature(geometry={\"type\": geometry[\"type\"], \"coordinates\": geometry[\"coordinates\"]})\n",
    "    for geometry in geometries\n",
    "]\n",
    "\n",
    "geojson_data = geojson.FeatureCollection(geojson_features)\n",
    "\n",
    "# Save the data as a GeoJSON file\n",
    "output_file_path = \"C:\\\\Users\\\\LENOVO\\\\Downloads\\\\KENYAN COUNTY_GEO\\\\baringo.geojson\"\n",
    "with open(output_file_path, 'w') as geojson_file:\n",
    "    geojson.dump(geojson_data, geojson_file)\n",
    "\n",
    "print(f\"GeoJSON file saved to {output_file_path}\")\n"
   ]
  },
  {
   "cell_type": "code",
   "execution_count": 107,
   "id": "77e8e6b3-4621-40ec-977f-b3349b78ef54",
   "metadata": {},
   "outputs": [
    {
     "name": "stdout",
     "output_type": "stream",
     "text": [
      "GeoJSON file saved to C:\\Users\\LENOVO\\Downloads\\KENYAN COUNTY_GEO\\wajir.geojson\n"
     ]
    }
   ],
   "source": [
    "import json\n",
    "import geojson\n",
    "\n",
    "# Load the JSON file using a raw string\n",
    "input_file_path = r\"C:\\Users\\LENOVO\\Downloads\\KENYAN COUNTY_GEO\\wajir.json\"\n",
    "with open(input_file_path, 'r') as json_file:\n",
    "    data = json.load(json_file)\n",
    "\n",
    "# Check if the JSON is a GeometryCollection\n",
    "if data[\"type\"] == \"GeometryCollection\" and \"geometries\" in data:\n",
    "    geometries = data[\"geometries\"]\n",
    "else:\n",
    "    raise ValueError(\"Unexpected JSON structure. Please check the JSON file.\")\n",
    "\n",
    "# Create a GeoJSON FeatureCollection from the geometries\n",
    "geojson_features = [\n",
    "    geojson.Feature(geometry={\"type\": geometry[\"type\"], \"coordinates\": geometry[\"coordinates\"]})\n",
    "    for geometry in geometries\n",
    "]\n",
    "\n",
    "geojson_data = geojson.FeatureCollection(geojson_features)\n",
    "\n",
    "# Save the data as a GeoJSON file\n",
    "output_file_path = r\"C:\\Users\\LENOVO\\Downloads\\KENYAN COUNTY_GEO\\wajir.geojson\"\n",
    "with open(output_file_path, 'w') as geojson_file:\n",
    "    geojson.dump(geojson_data, geojson_file)\n",
    "\n",
    "print(f\"GeoJSON file saved to {output_file_path}\")\n"
   ]
  },
  {
   "cell_type": "code",
   "execution_count": null,
   "id": "e5f83bf7-749c-4a93-bd05-56f5f0625374",
   "metadata": {},
   "outputs": [],
   "source": []
  }
 ],
 "metadata": {
  "kernelspec": {
   "display_name": "Python 3 (ipykernel)",
   "language": "python",
   "name": "python3"
  },
  "language_info": {
   "codemirror_mode": {
    "name": "ipython",
    "version": 3
   },
   "file_extension": ".py",
   "mimetype": "text/x-python",
   "name": "python",
   "nbconvert_exporter": "python",
   "pygments_lexer": "ipython3",
   "version": "3.12.4"
  }
 },
 "nbformat": 4,
 "nbformat_minor": 5
}
